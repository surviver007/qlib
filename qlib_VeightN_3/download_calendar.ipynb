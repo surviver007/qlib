{
 "cells": [
  {
   "cell_type": "code",
   "execution_count": 2,
   "metadata": {},
   "outputs": [],
   "source": [
    "from datetime import datetime\n",
    "\n",
    "from vnpy.trader.constant import Interval, Exchange\n",
    "from vnpy.trader.object import HistoryRequest\n",
    "from vnpy.trader.datafeed import get_datafeed"
   ]
  },
  {
   "cell_type": "code",
   "execution_count": 3,
   "metadata": {},
   "outputs": [],
   "source": [
    "datafeed = get_datafeed()"
   ]
  },
  {
   "cell_type": "code",
   "execution_count": 8,
   "metadata": {},
   "outputs": [],
   "source": [
    "req = HistoryRequest(\n",
    "    symbol=\"000300\",\n",
    "    exchange=Exchange.SSE,\n",
    "    start=datetime(2019, 1, 1),\n",
    "    end=datetime.now(),\n",
    "    interval=Interval.DAILY\n",
    ")\n",
    "\n",
    "bars = datafeed.query_bar_history(req)"
   ]
  },
  {
   "cell_type": "code",
   "execution_count": 9,
   "metadata": {},
   "outputs": [],
   "source": [
    "dates = [bar.datetime for bar in bars]"
   ]
  },
  {
   "cell_type": "code",
   "execution_count": 10,
   "metadata": {},
   "outputs": [
    {
     "name": "stdout",
     "output_type": "stream",
     "text": [
      "2019-01-02 00:00:00+08:00 2024-02-21 00:00:00+08:00\n"
     ]
    }
   ],
   "source": [
    "print(dates[0], dates[-1])"
   ]
  },
  {
   "cell_type": "code",
   "execution_count": 11,
   "metadata": {},
   "outputs": [],
   "source": [
    "with open(\"day.txt\", mode=\"w\") as f:\n",
    "    for date in dates:\n",
    "        f.write(date.strftime(\"%Y-%m-%d\") + \"\\n\")"
   ]
  },
  {
   "cell_type": "code",
   "execution_count": null,
   "metadata": {},
   "outputs": [],
   "source": []
  }
 ],
 "metadata": {
  "kernelspec": {
   "display_name": "Python 3",
   "language": "python",
   "name": "python3"
  },
  "language_info": {
   "codemirror_mode": {
    "name": "ipython",
    "version": 3
   },
   "file_extension": ".py",
   "mimetype": "text/x-python",
   "name": "python",
   "nbconvert_exporter": "python",
   "pygments_lexer": "ipython3",
   "version": "3.10.2"
  }
 },
 "nbformat": 4,
 "nbformat_minor": 2
}
