{
 "cells": [
  {
   "cell_type": "code",
   "execution_count": 1,
   "metadata": {
    "ExecuteTime": {
     "end_time": "2024-03-02T06:12:32.548653Z",
     "start_time": "2024-03-02T06:12:29.074964Z"
    }
   },
   "outputs": [
    {
     "ename": "ImportError",
     "evalue": "dlopen(/Users/surviver007/opt/anaconda3/envs/qlib/lib/python3.8/site-packages/talib/_ta_lib.cpython-38-darwin.so, 0x0002): symbol not found in flat namespace '_TA_ACOS'",
     "output_type": "error",
     "traceback": [
      "\u001B[0;31m---------------------------------------------------------------------------\u001B[0m",
      "\u001B[0;31mImportError\u001B[0m                               Traceback (most recent call last)",
      "Cell \u001B[0;32mIn[1], line 5\u001B[0m\n\u001B[1;32m      3\u001B[0m \u001B[38;5;28;01mfrom\u001B[39;00m \u001B[38;5;21;01mvnpy\u001B[39;00m\u001B[38;5;21;01m.\u001B[39;00m\u001B[38;5;21;01mtrader\u001B[39;00m\u001B[38;5;21;01m.\u001B[39;00m\u001B[38;5;21;01mconstant\u001B[39;00m \u001B[38;5;28;01mimport\u001B[39;00m Interval, Exchange\n\u001B[1;32m      4\u001B[0m \u001B[38;5;28;01mfrom\u001B[39;00m \u001B[38;5;21;01mvnpy\u001B[39;00m\u001B[38;5;21;01m.\u001B[39;00m\u001B[38;5;21;01mtrader\u001B[39;00m\u001B[38;5;21;01m.\u001B[39;00m\u001B[38;5;21;01mobject\u001B[39;00m \u001B[38;5;28;01mimport\u001B[39;00m HistoryRequest\n\u001B[0;32m----> 5\u001B[0m \u001B[38;5;28;01mfrom\u001B[39;00m \u001B[38;5;21;01mvnpy\u001B[39;00m\u001B[38;5;21;01m.\u001B[39;00m\u001B[38;5;21;01mtrader\u001B[39;00m\u001B[38;5;21;01m.\u001B[39;00m\u001B[38;5;21;01mdatafeed\u001B[39;00m \u001B[38;5;28;01mimport\u001B[39;00m get_datafeed\n",
      "File \u001B[0;32m~/opt/anaconda3/envs/qlib/lib/python3.8/site-packages/vnpy/trader/datafeed.py:7\u001B[0m\n\u001B[1;32m      4\u001B[0m \u001B[38;5;28;01mfrom\u001B[39;00m \u001B[38;5;21;01mimportlib\u001B[39;00m \u001B[38;5;28;01mimport\u001B[39;00m import_module\n\u001B[1;32m      6\u001B[0m \u001B[38;5;28;01mfrom\u001B[39;00m \u001B[38;5;21;01m.\u001B[39;00m\u001B[38;5;21;01mobject\u001B[39;00m \u001B[38;5;28;01mimport\u001B[39;00m HistoryRequest, TickData, BarData\n\u001B[0;32m----> 7\u001B[0m \u001B[38;5;28;01mfrom\u001B[39;00m \u001B[38;5;21;01m.\u001B[39;00m\u001B[38;5;21;01msetting\u001B[39;00m \u001B[38;5;28;01mimport\u001B[39;00m SETTINGS\n\u001B[1;32m     10\u001B[0m \u001B[38;5;28;01mclass\u001B[39;00m \u001B[38;5;21;01mBaseDatafeed\u001B[39;00m(ABC):\n\u001B[1;32m     11\u001B[0m \u001B[38;5;250m    \u001B[39m\u001B[38;5;124;03m\"\"\"\u001B[39;00m\n\u001B[1;32m     12\u001B[0m \u001B[38;5;124;03m    Abstract datafeed class for connecting to different datafeed.\u001B[39;00m\n\u001B[1;32m     13\u001B[0m \u001B[38;5;124;03m    \"\"\"\u001B[39;00m\n",
      "File \u001B[0;32m~/opt/anaconda3/envs/qlib/lib/python3.8/site-packages/vnpy/trader/setting.py:9\u001B[0m\n\u001B[1;32m      6\u001B[0m \u001B[38;5;28;01mfrom\u001B[39;00m \u001B[38;5;21;01mtyping\u001B[39;00m \u001B[38;5;28;01mimport\u001B[39;00m Dict, Any\n\u001B[1;32m      7\u001B[0m \u001B[38;5;28;01mfrom\u001B[39;00m \u001B[38;5;21;01mtzlocal\u001B[39;00m \u001B[38;5;28;01mimport\u001B[39;00m get_localzone_name\n\u001B[0;32m----> 9\u001B[0m \u001B[38;5;28;01mfrom\u001B[39;00m \u001B[38;5;21;01m.\u001B[39;00m\u001B[38;5;21;01mutility\u001B[39;00m \u001B[38;5;28;01mimport\u001B[39;00m load_json\n\u001B[1;32m     12\u001B[0m SETTINGS: Dict[\u001B[38;5;28mstr\u001B[39m, Any] \u001B[38;5;241m=\u001B[39m {\n\u001B[1;32m     13\u001B[0m     \u001B[38;5;124m\"\u001B[39m\u001B[38;5;124mfont.family\u001B[39m\u001B[38;5;124m\"\u001B[39m: \u001B[38;5;124m\"\u001B[39m\u001B[38;5;124m微软雅黑\u001B[39m\u001B[38;5;124m\"\u001B[39m,\n\u001B[1;32m     14\u001B[0m     \u001B[38;5;124m\"\u001B[39m\u001B[38;5;124mfont.size\u001B[39m\u001B[38;5;124m\"\u001B[39m: \u001B[38;5;241m12\u001B[39m,\n\u001B[0;32m   (...)\u001B[0m\n\u001B[1;32m     38\u001B[0m     \u001B[38;5;124m\"\u001B[39m\u001B[38;5;124mdatabase.password\u001B[39m\u001B[38;5;124m\"\u001B[39m: \u001B[38;5;124m\"\u001B[39m\u001B[38;5;124m\"\u001B[39m\n\u001B[1;32m     39\u001B[0m }\n\u001B[1;32m     42\u001B[0m \u001B[38;5;66;03m# Load global setting from json file.\u001B[39;00m\n",
      "File \u001B[0;32m~/opt/anaconda3/envs/qlib/lib/python3.8/site-packages/vnpy/trader/utility.py:15\u001B[0m\n\u001B[1;32m     12\u001B[0m \u001B[38;5;28;01mfrom\u001B[39;00m \u001B[38;5;21;01mmath\u001B[39;00m \u001B[38;5;28;01mimport\u001B[39;00m floor, ceil\n\u001B[1;32m     14\u001B[0m \u001B[38;5;28;01mimport\u001B[39;00m \u001B[38;5;21;01mnumpy\u001B[39;00m \u001B[38;5;28;01mas\u001B[39;00m \u001B[38;5;21;01mnp\u001B[39;00m\n\u001B[0;32m---> 15\u001B[0m \u001B[38;5;28;01mimport\u001B[39;00m \u001B[38;5;21;01mtalib\u001B[39;00m\n\u001B[1;32m     17\u001B[0m \u001B[38;5;28;01mfrom\u001B[39;00m \u001B[38;5;21;01m.\u001B[39;00m\u001B[38;5;21;01mobject\u001B[39;00m \u001B[38;5;28;01mimport\u001B[39;00m BarData, TickData\n\u001B[1;32m     18\u001B[0m \u001B[38;5;28;01mfrom\u001B[39;00m \u001B[38;5;21;01m.\u001B[39;00m\u001B[38;5;21;01mconstant\u001B[39;00m \u001B[38;5;28;01mimport\u001B[39;00m Exchange, Interval\n",
      "File \u001B[0;32m~/opt/anaconda3/envs/qlib/lib/python3.8/site-packages/talib/__init__.py:93\u001B[0m\n\u001B[1;32m     89\u001B[0m \u001B[38;5;28;01melse\u001B[39;00m:\n\u001B[1;32m     90\u001B[0m     _wrapper \u001B[38;5;241m=\u001B[39m \u001B[38;5;28;01mlambda\u001B[39;00m x: x\n\u001B[0;32m---> 93\u001B[0m \u001B[38;5;28;01mfrom\u001B[39;00m \u001B[38;5;21;01m.\u001B[39;00m\u001B[38;5;21;01m_ta_lib\u001B[39;00m \u001B[38;5;28;01mimport\u001B[39;00m (\n\u001B[1;32m     94\u001B[0m     _ta_initialize, _ta_shutdown, MA_Type, __ta_version__,\n\u001B[1;32m     95\u001B[0m     _ta_set_unstable_period \u001B[38;5;28;01mas\u001B[39;00m set_unstable_period,\n\u001B[1;32m     96\u001B[0m     _ta_get_unstable_period \u001B[38;5;28;01mas\u001B[39;00m get_unstable_period,\n\u001B[1;32m     97\u001B[0m     _ta_set_compatibility \u001B[38;5;28;01mas\u001B[39;00m set_compatibility,\n\u001B[1;32m     98\u001B[0m     _ta_get_compatibility \u001B[38;5;28;01mas\u001B[39;00m get_compatibility,\n\u001B[1;32m     99\u001B[0m     __TA_FUNCTION_NAMES__\n\u001B[1;32m    100\u001B[0m )\n\u001B[1;32m    102\u001B[0m \u001B[38;5;66;03m# import all the func and stream functions\u001B[39;00m\n\u001B[1;32m    103\u001B[0m \u001B[38;5;28;01mfrom\u001B[39;00m \u001B[38;5;21;01m.\u001B[39;00m\u001B[38;5;21;01m_ta_lib\u001B[39;00m \u001B[38;5;28;01mimport\u001B[39;00m \u001B[38;5;241m*\u001B[39m\n",
      "\u001B[0;31mImportError\u001B[0m: dlopen(/Users/surviver007/opt/anaconda3/envs/qlib/lib/python3.8/site-packages/talib/_ta_lib.cpython-38-darwin.so, 0x0002): symbol not found in flat namespace '_TA_ACOS'"
     ]
    }
   ],
   "source": [
    "from datetime import datetime\n",
    "\n",
    "from vnpy.trader.constant import Interval, Exchange\n",
    "from vnpy.trader.object import HistoryRequest\n",
    "from vnpy.trader.datafeed import get_datafeed"
   ]
  },
  {
   "cell_type": "code",
   "execution_count": 3,
   "metadata": {},
   "outputs": [],
   "source": [
    "datafeed = get_datafeed()"
   ]
  },
  {
   "cell_type": "code",
   "execution_count": 8,
   "metadata": {},
   "outputs": [],
   "source": [
    "req = HistoryRequest(\n",
    "    symbol=\"000300\",\n",
    "    exchange=Exchange.SSE,\n",
    "    start=datetime(2019, 1, 1),\n",
    "    end=datetime.now(),\n",
    "    interval=Interval.DAILY\n",
    ")\n",
    "\n",
    "bars = datafeed.query_bar_history(req)"
   ]
  },
  {
   "cell_type": "code",
   "execution_count": 9,
   "metadata": {},
   "outputs": [],
   "source": [
    "dates = [bar.datetime for bar in bars]"
   ]
  },
  {
   "cell_type": "code",
   "execution_count": 10,
   "metadata": {},
   "outputs": [
    {
     "name": "stdout",
     "output_type": "stream",
     "text": [
      "2019-01-02 00:00:00+08:00 2024-02-21 00:00:00+08:00\n"
     ]
    }
   ],
   "source": [
    "print(dates[0], dates[-1])"
   ]
  },
  {
   "cell_type": "code",
   "execution_count": 11,
   "metadata": {},
   "outputs": [],
   "source": [
    "with open(\"day.txt\", mode=\"w\") as f:\n",
    "    for date in dates:\n",
    "        f.write(date.strftime(\"%Y-%m-%d\") + \"\\n\")"
   ]
  },
  {
   "cell_type": "code",
   "execution_count": null,
   "metadata": {},
   "outputs": [],
   "source": []
  }
 ],
 "metadata": {
  "kernelspec": {
   "display_name": "Python 3",
   "language": "python",
   "name": "python3"
  },
  "language_info": {
   "codemirror_mode": {
    "name": "ipython",
    "version": 3
   },
   "file_extension": ".py",
   "mimetype": "text/x-python",
   "name": "python",
   "nbconvert_exporter": "python",
   "pygments_lexer": "ipython3",
   "version": "3.10.2"
  }
 },
 "nbformat": 4,
 "nbformat_minor": 2
}
