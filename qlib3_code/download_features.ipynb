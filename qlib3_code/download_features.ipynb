{
 "cells": [
  {
   "cell_type": "code",
   "execution_count": null,
   "id": "e63c7fc2-2500-4d50-a5af-8af4aaa91c1b",
   "metadata": {},
   "outputs": [],
   "source": [
    "from datetime import datetime\n",
    "from pathlib import Path\n",
    "\n",
    "import pandas as pd\n",
    "import numpy as np\n",
    "from xtquant import xtdatacenter as xtdc\n",
    "\n",
    "from vnpy.trader.utility import TEMP_DIR"
   ]
  },
  {
   "cell_type": "code",
   "execution_count": null,
   "id": "9ba7948f",
   "metadata": {},
   "outputs": [],
   "source": [
    "# 设置迅投研令牌\n",
    "xtdc.set_token(\"123456\")    # 换成自己的Token\n",
    "\n",
    "# 设置临时文件目录\n",
    "xtdc.set_data_home_dir(str(TEMP_DIR) + \"\\\\xt\")\n",
    "\n",
    "# 初始化连接\n",
    "xtdc.init()"
   ]
  },
  {
   "cell_type": "code",
   "execution_count": null,
   "id": "cc8d3d17-28bb-42a9-aea7-95879d9a5994",
   "metadata": {},
   "outputs": [],
   "source": [
    "from xtquant.xtdata import (\n",
    "    download_history_data,\n",
    "    get_local_data\n",
    ")"
   ]
  },
  {
   "cell_type": "code",
   "execution_count": null,
   "id": "32ce9577",
   "metadata": {},
   "outputs": [],
   "source": [
    "def download_qlib_data(xt_symbol: str, start: datetime, end: datetime) -> pd.DataFrame:\n",
    "    start = start.strftime(\"%Y%m%d\")\n",
    "    end = end.strftime(\"%Y%m%d\")\n",
    "\n",
    "    # 执行下载数据\n",
    "    download_history_data(xt_symbol, \"1d\", start , end)\n",
    "\n",
    "    # 获取原始价格\n",
    "    original_data = get_local_data([], [xt_symbol], \"1d\", start , end, dividend_type=\"none\")\n",
    "    original_df = original_data[xt_symbol]\n",
    "\n",
    "    # 获取前复权价格\n",
    "    adjusted_data = get_local_data([], [xt_symbol], \"1d\", start , end, dividend_type=\"front\")\n",
    "    adjusted_df = adjusted_data[xt_symbol]\n",
    "\n",
    "    if adjusted_df.empty:\n",
    "        print(\"fuck\", xt_symbol, start, end)\n",
    "        print(original_data)\n",
    "        print(adjusted_data)\n",
    "\n",
    "    # 转换前复权价格\n",
    "    first_close = adjusted_df.iloc[0][\"close\"]\n",
    "\n",
    "    result_df = adjusted_df[[\"time\", \"open\", \"high\", \"low\", \"close\", \"volume\"]].copy()\n",
    "    result_df.index = pd.DatetimeIndex(result_df.index)\n",
    "\n",
    "    result_df[\"open\"] = result_df[\"open\"] / first_close\n",
    "    result_df[\"high\"] = result_df[\"high\"] / first_close\n",
    "    result_df[\"low\"] = result_df[\"low\"] / first_close\n",
    "    result_df[\"close\"] = result_df[\"close\"] / first_close\n",
    "    result_df[\"volume\"] = result_df[\"volume\"] * first_close\n",
    "\n",
    "    result_df[\"factor\"] = result_df[\"close\"] / original_df[\"close\"]\n",
    "\n",
    "    return result_df"
   ]
  },
  {
   "cell_type": "code",
   "execution_count": null,
   "id": "cd3e8cc6",
   "metadata": {},
   "outputs": [],
   "source": [
    "# 读取日历信息\n",
    "dates = []\n",
    "with open(\"day.txt\", mode=\"r\") as f:\n",
    "    for line in f.readlines():\n",
    "        dates.append(line.replace(\"\\n\", \"\"))\n",
    "\n",
    "\n",
    "def dump_bin_file(symbol: str, df: pd.DataFrame):\n",
    "    instrument_folder = folder = Path.cwd().joinpath(\"instruments\")\n",
    "    if not instrument_folder.exists():\n",
    "        instrument_folder.mkdir()\n",
    "\n",
    "    folder = instrument_folder.joinpath(symbol)\n",
    "    folder.mkdir()\n",
    "\n",
    "    first_date: str = df.index[0].strftime(\"%Y-%m-%d\")\n",
    "    ix: int = dates.index(first_date)\n",
    "\n",
    "    # 保存到bin文件\n",
    "    for field in [\"open\", \"high\", \"low\", \"close\", \"volume\", \"factor\"]:\n",
    "        file_path = folder.joinpath(f\"{field}.day.bin\")\n",
    "\n",
    "        with open(str(file_path), mode=\"wb\") as fp:\n",
    "            np.hstack([ix, df[field]]).astype(\"<f\").tofile(fp)"
   ]
  },
  {
   "cell_type": "code",
   "execution_count": null,
   "id": "c210e8e0",
   "metadata": {},
   "outputs": [],
   "source": [
    "def load_qlib_symbols():\n",
    "    symbols = []\n",
    "\n",
    "    with open(\"csi300.txt\", mode=\"r\") as f:\n",
    "        for line in f.readlines():\n",
    "            qlib_symbol = line.split(\"\\t\")[0]\n",
    "            symbols.append(qlib_symbol)\n",
    "\n",
    "    return symbols"
   ]
  },
  {
   "cell_type": "code",
   "execution_count": null,
   "id": "d6439d46",
   "metadata": {},
   "outputs": [],
   "source": [
    "# 下载数据\n",
    "start = datetime(2024, 1, 1)\n",
    "end = datetime(2024, 2, 21)\n",
    "\n",
    "qlib_symbols = load_qlib_symbols()\n",
    "\n",
    "for qlib_symbol in qlib_symbols:\n",
    "    xt_symbol = qlib_symbol[2:] + \".\" + qlib_symbol[:2]\n",
    "\n",
    "    df = download_qlib_data(xt_symbol, start, end)\n",
    "    dump_bin_file(qlib_symbol, df)"
   ]
  }
 ],
 "metadata": {
  "kernelspec": {
   "display_name": "Python 3 (ipykernel)",
   "language": "python",
   "name": "python3"
  },
  "language_info": {
   "codemirror_mode": {
    "name": "ipython",
    "version": 3
   },
   "file_extension": ".py",
   "mimetype": "text/x-python",
   "name": "python",
   "nbconvert_exporter": "python",
   "pygments_lexer": "ipython3",
   "version": "3.10.2"
  }
 },
 "nbformat": 4,
 "nbformat_minor": 5
}
